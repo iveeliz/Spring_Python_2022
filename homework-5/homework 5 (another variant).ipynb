{
 "cells": [
  {
   "cell_type": "markdown",
   "id": "38ea7638",
   "metadata": {},
   "source": [
    "# Домашняя работа по системам компьютерной алгебры № 5 "
   ]
  },
  {
   "cell_type": "markdown",
   "id": "76963698",
   "metadata": {},
   "source": [
    "# LU-разложение и LUP-разложение"
   ]
  },
  {
   "cell_type": "markdown",
   "id": "e2bf47f1",
   "metadata": {},
   "source": [
    "## Выполнила: Иванова Елизавета Дмитриевна, НПМбд-01-19"
   ]
  },
  {
   "cell_type": "markdown",
   "id": "fc01bbce",
   "metadata": {},
   "source": [
    "Импортируем библиотеку numpy"
   ]
  },
  {
   "cell_type": "code",
   "execution_count": 1,
   "id": "efaf3bce",
   "metadata": {},
   "outputs": [],
   "source": [
    "import numpy as np"
   ]
  },
  {
   "cell_type": "markdown",
   "id": "a1f83950",
   "metadata": {},
   "source": [
    "## LU-разложение"
   ]
  },
  {
   "cell_type": "markdown",
   "id": "ed99e22a",
   "metadata": {},
   "source": [
    "Функция «LU_decomposition» раскладывает квадратную матрицу А на матрицы L (нижняя треугольная) и U (верхняя треугольная)"
   ]
  },
  {
   "cell_type": "code",
   "execution_count": 2,
   "id": "69183c25",
   "metadata": {},
   "outputs": [],
   "source": [
    "def LU_decomposition(A):\n",
    "\n",
    "    n = A.shape[0]\n",
    "    \n",
    "    L = np.identity(n)\n",
    "    U = A.copy()\n",
    "    \n",
    "    for i in range(n):\n",
    "            \n",
    "        multiplier = U[i + 1 :, i] / U[i, i]\n",
    "        L[i + 1 :, i] += multiplier\n",
    "        multiplier.resize(multiplier.size, 1)\n",
    "        U[i + 1 :] -= multiplier * U[i]\n",
    "        \n",
    "    return L, U"
   ]
  },
  {
   "cell_type": "markdown",
   "id": "02b814ee",
   "metadata": {},
   "source": [
    "Задаём квадратную матрицу 3x3"
   ]
  },
  {
   "cell_type": "code",
   "execution_count": 3,
   "id": "54d817c4",
   "metadata": {},
   "outputs": [],
   "source": [
    "A = np.array([[10, 20, 30.], \n",
    "              [0, -50, 60.], \n",
    "              [70, 80, 90.]])"
   ]
  },
  {
   "cell_type": "markdown",
   "id": "1af43f43",
   "metadata": {},
   "source": [
    "Проверяем работу функции"
   ]
  },
  {
   "cell_type": "code",
   "execution_count": 4,
   "id": "7aaf751a",
   "metadata": {},
   "outputs": [
    {
     "data": {
      "text/plain": [
       "(array([[1. , 0. , 0. ],\n",
       "        [0. , 1. , 0. ],\n",
       "        [7. , 1.2, 1. ]]),\n",
       " array([[  10.,   20.,   30.],\n",
       "        [   0.,  -50.,   60.],\n",
       "        [   0.,    0., -192.]]))"
      ]
     },
     "execution_count": 4,
     "metadata": {},
     "output_type": "execute_result"
    }
   ],
   "source": [
    "LU_decomposition(A)"
   ]
  },
  {
   "cell_type": "markdown",
   "id": "efda9698",
   "metadata": {},
   "source": [
    "Проверяем А = LU"
   ]
  },
  {
   "cell_type": "code",
   "execution_count": 5,
   "id": "df1b7847",
   "metadata": {},
   "outputs": [
    {
     "data": {
      "text/plain": [
       "array([[ True,  True,  True],\n",
       "       [ True,  True,  True],\n",
       "       [ True,  True,  True]])"
      ]
     },
     "execution_count": 5,
     "metadata": {},
     "output_type": "execute_result"
    }
   ],
   "source": [
    "L, U = LU_decomposition(A)\n",
    "\n",
    "A == L.dot(U)"
   ]
  },
  {
   "cell_type": "markdown",
   "id": "b3bb79aa",
   "metadata": {},
   "source": [
    "Функция «SLAE_LU» находит решение СЛАУ с помощью LU-разложения. Функция принимает матрицу А и вектор-столбец х, возвращает вектор-столбец решений с округлением до сотых"
   ]
  },
  {
   "cell_type": "code",
   "execution_count": 6,
   "id": "7e732fc4",
   "metadata": {},
   "outputs": [],
   "source": [
    "# y = Ux\n",
    "# b = Ly\n",
    "\n",
    "def SLAE_LU(A, b): \n",
    "    \n",
    "    L, U = LU_decomposition(A)\n",
    "    \n",
    "    n = L.shape[0]\n",
    "    \n",
    "    y = np.zeros_like(b, dtype=np.double) # Возвращает массив нулей той же формы и типа, что и заданный массив\n",
    "    \n",
    "    y[0] = b[0] / L[0, 0] # y1 = b1/l11\n",
    "    \n",
    "    for i in range(n):\n",
    "        y[i] = (b[i] - np.dot(L[i,:i], y[:i])) / L[i,i] # (bi - sum(from 1 to i-1)(Lij*yj))/Lii\n",
    "\n",
    "    m = L.shape[0]\n",
    "    \n",
    "    x = np.zeros_like(y, dtype=np.double)\n",
    "    \n",
    "    x[-1] = y[-1] / U[-1, -1] # # ym = bm/lm\n",
    "    \n",
    "    for i in range(m-2, -1, -1):\n",
    "        x[i] = (y[i] - np.dot(U[i,i:], x[i:])) / U[i,i] # (yi - sum(from i+1 to m)(Uij*xj))/Uii\n",
    "\n",
    "    return np.round(x, 2)"
   ]
  },
  {
   "cell_type": "markdown",
   "id": "12c01203",
   "metadata": {},
   "source": [
    "Задаём вектор-столбец"
   ]
  },
  {
   "cell_type": "code",
   "execution_count": 7,
   "id": "d5db8a3e",
   "metadata": {},
   "outputs": [],
   "source": [
    "b = np.array([[30], \n",
    "              [20], \n",
    "              [10]])"
   ]
  },
  {
   "cell_type": "markdown",
   "id": "c9653dc7",
   "metadata": {},
   "source": [
    "Проверяем работу функции"
   ]
  },
  {
   "cell_type": "code",
   "execution_count": 8,
   "id": "11d1eb77",
   "metadata": {},
   "outputs": [
    {
     "data": {
      "text/plain": [
       "array([[-2.5 ],\n",
       "       [ 1.  ],\n",
       "       [ 1.17]])"
      ]
     },
     "execution_count": 8,
     "metadata": {},
     "output_type": "execute_result"
    }
   ],
   "source": [
    "SLAE_LU(A, b)"
   ]
  },
  {
   "cell_type": "markdown",
   "id": "7ddbbcf0",
   "metadata": {},
   "source": [
    "Проверяем, совпадает ли результат при использовании linalg.solve"
   ]
  },
  {
   "cell_type": "code",
   "execution_count": 9,
   "id": "29c69f91",
   "metadata": {},
   "outputs": [
    {
     "data": {
      "text/plain": [
       "array([[-2.5 ],\n",
       "       [ 1.  ],\n",
       "       [ 1.17]])"
      ]
     },
     "execution_count": 9,
     "metadata": {},
     "output_type": "execute_result"
    }
   ],
   "source": [
    "np.round(np.linalg.solve(A, b), 2)"
   ]
  },
  {
   "cell_type": "markdown",
   "id": "d4973c21",
   "metadata": {},
   "source": [
    "Проверяем, совпадает ли результат при использовании lu_factor и lu_solve библиотеки scipy.linalg"
   ]
  },
  {
   "cell_type": "code",
   "execution_count": 10,
   "id": "14ade31d",
   "metadata": {},
   "outputs": [
    {
     "data": {
      "text/plain": [
       "array([[-2.5 ],\n",
       "       [ 1.  ],\n",
       "       [ 1.17]])"
      ]
     },
     "execution_count": 10,
     "metadata": {},
     "output_type": "execute_result"
    }
   ],
   "source": [
    "from scipy.linalg import lu_factor, lu_solve\n",
    "\n",
    "np.round(lu_solve(lu_factor(A), b), 2)"
   ]
  },
  {
   "cell_type": "markdown",
   "id": "81872e54",
   "metadata": {},
   "source": [
    "## LUP-разложение"
   ]
  },
  {
   "cell_type": "markdown",
   "id": "36e083e0",
   "metadata": {},
   "source": [
    "Функция «swap_rows» меняет местами строки в матрице"
   ]
  },
  {
   "cell_type": "code",
   "execution_count": 11,
   "id": "1da0b1ae",
   "metadata": {},
   "outputs": [],
   "source": [
    "def swap_rows(A, a, b):\n",
    "    \n",
    "    t = np.copy(A[a])\n",
    "    A[a] = A[b]\n",
    "    A[b] = t"
   ]
  },
  {
   "cell_type": "markdown",
   "id": "60f4c605",
   "metadata": {},
   "source": [
    "Функция «swap_cols» меняет местами столбцы в матрице"
   ]
  },
  {
   "cell_type": "code",
   "execution_count": 12,
   "id": "b27b9516",
   "metadata": {},
   "outputs": [],
   "source": [
    "def swap_cols(A, a, b):\n",
    "    A = np.transpose(A)\n",
    "    A = swap_rows(A, a, b)\n",
    "    return np.transpose(A)"
   ]
  },
  {
   "cell_type": "markdown",
   "id": "191e674d",
   "metadata": {},
   "source": [
    "Функция «LUP_decomposition» раскладывает квадратную матрицу А на матрицы L (нижняя треугольная), U (верхняя треугольная) и P (матрица перестановок)"
   ]
  },
  {
   "cell_type": "code",
   "execution_count": 13,
   "id": "2ccb043f",
   "metadata": {},
   "outputs": [],
   "source": [
    "def LUP_decomposition(A):\n",
    "    \n",
    "    n = A.shape[0]\n",
    "    \n",
    "    L = np.identity(n)\n",
    "    U = np.copy(A)\n",
    "    P = np.identity(n)\n",
    "    \n",
    "    for a in range(n):\n",
    "        \n",
    "        b = a + 1\n",
    "        \n",
    "        while U[a][a] == 0:\n",
    "            \n",
    "            swap_rows(U, a, b)\n",
    "            swap_rows(P, a, b)\n",
    "            swap_rows(L, a, b)\n",
    "            swap_cols(L, a, b)\n",
    "            \n",
    "            b += 1\n",
    "        \n",
    "        multiplier = U[a + 1 :, a] / U[a, a]\n",
    "        L[a + 1 :, a] += multiplier\n",
    "        multiplier.resize(multiplier.size, 1)\n",
    "        U[a + 1 :] -= multiplier * U[a]\n",
    "        \n",
    "    return L, U, P"
   ]
  },
  {
   "cell_type": "markdown",
   "id": "c93a40df",
   "metadata": {},
   "source": [
    "Проверяем работу функции при тех же входных данных"
   ]
  },
  {
   "cell_type": "code",
   "execution_count": 14,
   "id": "7ce42bce",
   "metadata": {},
   "outputs": [
    {
     "data": {
      "text/plain": [
       "(array([[1. , 0. , 0. ],\n",
       "        [0. , 1. , 0. ],\n",
       "        [7. , 1.2, 1. ]]),\n",
       " array([[  10.,   20.,   30.],\n",
       "        [   0.,  -50.,   60.],\n",
       "        [   0.,    0., -192.]]),\n",
       " array([[1., 0., 0.],\n",
       "        [0., 1., 0.],\n",
       "        [0., 0., 1.]]))"
      ]
     },
     "execution_count": 14,
     "metadata": {},
     "output_type": "execute_result"
    }
   ],
   "source": [
    "LUP_decomposition(A)"
   ]
  },
  {
   "cell_type": "markdown",
   "id": "410ad8d8",
   "metadata": {},
   "source": [
    "Проверяем А = PLU"
   ]
  },
  {
   "cell_type": "code",
   "execution_count": 15,
   "id": "1d97bd1c",
   "metadata": {},
   "outputs": [
    {
     "data": {
      "text/plain": [
       "array([[ True,  True,  True],\n",
       "       [ True,  True,  True],\n",
       "       [ True,  True,  True]])"
      ]
     },
     "execution_count": 15,
     "metadata": {},
     "output_type": "execute_result"
    }
   ],
   "source": [
    "L, U, P = LUP_decomposition(A)\n",
    "\n",
    "A == P.dot(L.dot(U))"
   ]
  },
  {
   "cell_type": "markdown",
   "id": "a4086e6d",
   "metadata": {},
   "source": [
    "Проверяем PА = LU"
   ]
  },
  {
   "cell_type": "code",
   "execution_count": 16,
   "id": "86be471d",
   "metadata": {},
   "outputs": [
    {
     "data": {
      "text/plain": [
       "array([[ True,  True,  True],\n",
       "       [ True,  True,  True],\n",
       "       [ True,  True,  True]])"
      ]
     },
     "execution_count": 16,
     "metadata": {},
     "output_type": "execute_result"
    }
   ],
   "source": [
    "P.dot(A) == L.dot(U)"
   ]
  },
  {
   "cell_type": "markdown",
   "id": "cffeaebd",
   "metadata": {},
   "source": [
    "Функция «SLAE_LUP» находит решение СЛАУ с помощью LUP-разложения. Функция принимает матрицу А и вектор-столбец х, возвращает вектор-столбец решений с округлением до сотых"
   ]
  },
  {
   "cell_type": "code",
   "execution_count": 19,
   "id": "06ebbe6a",
   "metadata": {},
   "outputs": [],
   "source": [
    "def SLAE_LUP(A, b):\n",
    "    \n",
    "    L, U, P = LUP_decomposition(A)\n",
    "    b = P.dot(b)\n",
    "    \n",
    "    n = L.shape[0]\n",
    "    \n",
    "    y = np.zeros_like(b, dtype=np.double) # Возвращает массив нулей той же формы и типа, что и заданный массив\n",
    "    \n",
    "    y[0] = b[0] / L[0, 0] # y1 = b1/l11\n",
    "    \n",
    "    for i in range(n):\n",
    "        y[i] = (b[i] - np.dot(L[i,:i], y[:i])) / L[i,i] # (bi - sum(from 1 to i-1)(Lij*yj))/Lii\n",
    "\n",
    "    m = L.shape[0]\n",
    "    \n",
    "    x = np.zeros_like(y, dtype=np.double)\n",
    "    \n",
    "    x[-1] = y[-1] / U[-1, -1] # # ym = bm/lm\n",
    "    \n",
    "    for i in range(m-2, -1, -1):\n",
    "        x[i] = (y[i] - np.dot(U[i,i:], x[i:])) / U[i,i] # (yi - sum(from i+1 to m)(Uij*xj))/Uii\n",
    "\n",
    "    return np.round(x, 2)"
   ]
  },
  {
   "cell_type": "markdown",
   "id": "71e29b88",
   "metadata": {},
   "source": [
    "Проверяем работу функции"
   ]
  },
  {
   "cell_type": "code",
   "execution_count": 20,
   "id": "622ebd8d",
   "metadata": {},
   "outputs": [
    {
     "data": {
      "text/plain": [
       "array([[-2.5 ],\n",
       "       [ 1.  ],\n",
       "       [ 1.17]])"
      ]
     },
     "execution_count": 20,
     "metadata": {},
     "output_type": "execute_result"
    }
   ],
   "source": [
    "SLAE_LUP(A, b)"
   ]
  },
  {
   "cell_type": "markdown",
   "id": "9197ea62",
   "metadata": {},
   "source": [
    "Проверяем, совпадает ли результат при использовании linalg.solve"
   ]
  },
  {
   "cell_type": "code",
   "execution_count": 22,
   "id": "6ca5ee76",
   "metadata": {},
   "outputs": [
    {
     "data": {
      "text/plain": [
       "array([[-2.5 ],\n",
       "       [ 1.  ],\n",
       "       [ 1.17]])"
      ]
     },
     "execution_count": 22,
     "metadata": {},
     "output_type": "execute_result"
    }
   ],
   "source": [
    "np.round(np.linalg.solve(A, b), 2)"
   ]
  },
  {
   "cell_type": "markdown",
   "id": "ec72ef80",
   "metadata": {},
   "source": [
    "Проверяем, совпадает ли результат при использовании lu_factor и lu_solve библиотеки scipy.linalg"
   ]
  },
  {
   "cell_type": "code",
   "execution_count": 23,
   "id": "80631ec5",
   "metadata": {},
   "outputs": [
    {
     "data": {
      "text/plain": [
       "array([[-2.5 ],\n",
       "       [ 1.  ],\n",
       "       [ 1.17]])"
      ]
     },
     "execution_count": 23,
     "metadata": {},
     "output_type": "execute_result"
    }
   ],
   "source": [
    "np.round(lu_solve(lu_factor(A), b), 2)"
   ]
  },
  {
   "cell_type": "markdown",
   "id": "699a0a76",
   "metadata": {},
   "source": [
    "## Сравнение LU и LUP"
   ]
  },
  {
   "cell_type": "markdown",
   "id": "446f8690",
   "metadata": {},
   "source": [
    "Поменяем местами строки в матрице так, чтобы на главной диагонали появился 0"
   ]
  },
  {
   "cell_type": "code",
   "execution_count": 24,
   "id": "c9827924",
   "metadata": {},
   "outputs": [],
   "source": [
    "swap_rows(A, 0, 1)"
   ]
  },
  {
   "cell_type": "markdown",
   "id": "a48e0df4",
   "metadata": {},
   "source": [
    "Можем заметить, что с помощью LU-разложения мы не можем разложить такую матрицу А на матрицы L и U, поскольку ведущий элемент на главной диагонали матрицы А равен нулю и при приведении матрицы А к ступенчатому виду происходит деление на 0"
   ]
  },
  {
   "cell_type": "code",
   "execution_count": 25,
   "id": "6f9c4854",
   "metadata": {},
   "outputs": [
    {
     "name": "stderr",
     "output_type": "stream",
     "text": [
      "<ipython-input-2-06b542031aa0>:10: RuntimeWarning: divide by zero encountered in true_divide\n",
      "  multiplier = U[i + 1 :, i] / U[i, i]\n",
      "<ipython-input-2-06b542031aa0>:13: RuntimeWarning: invalid value encountered in multiply\n",
      "  U[i + 1 :] -= multiplier * U[i]\n",
      "<ipython-input-2-06b542031aa0>:10: RuntimeWarning: invalid value encountered in true_divide\n",
      "  multiplier = U[i + 1 :, i] / U[i, i]\n"
     ]
    },
    {
     "data": {
      "text/plain": [
       "(array([[ 1.,  0.,  0.],\n",
       "        [inf,  1.,  0.],\n",
       "        [inf, nan,  1.]]),\n",
       " array([[  0., -50.,  60.],\n",
       "        [ nan,  inf, -inf],\n",
       "        [ nan,  nan,  nan]]))"
      ]
     },
     "execution_count": 25,
     "metadata": {},
     "output_type": "execute_result"
    }
   ],
   "source": [
    "LU_decomposition(A)"
   ]
  },
  {
   "cell_type": "markdown",
   "id": "18870b29",
   "metadata": {},
   "source": [
    "Но LUР-разложене для таких матриц работает"
   ]
  },
  {
   "cell_type": "code",
   "execution_count": 26,
   "id": "67ef4d55",
   "metadata": {},
   "outputs": [
    {
     "data": {
      "text/plain": [
       "(array([[1. , 0. , 0. ],\n",
       "        [0. , 1. , 0. ],\n",
       "        [7. , 1.2, 1. ]]),\n",
       " array([[  10.,   20.,   30.],\n",
       "        [   0.,  -50.,   60.],\n",
       "        [   0.,    0., -192.]]),\n",
       " array([[0., 1., 0.],\n",
       "        [1., 0., 0.],\n",
       "        [0., 0., 1.]]))"
      ]
     },
     "execution_count": 26,
     "metadata": {},
     "output_type": "execute_result"
    }
   ],
   "source": [
    "LUP_decomposition(A)"
   ]
  },
  {
   "cell_type": "markdown",
   "id": "fe338c73",
   "metadata": {},
   "source": [
    "Вернём изначальные матрицу и вектор-столбец и проверим время работы функций для нахождения решения СЛАУ с помощью LU-разложения и LUP-разложения"
   ]
  },
  {
   "cell_type": "code",
   "execution_count": 27,
   "id": "4bdae0b6",
   "metadata": {},
   "outputs": [],
   "source": [
    "A = np.array([[10, 20, 30.], \n",
    "              [0, -50, 60.], \n",
    "              [70, 80, 90.]])\n",
    "x = np.array([[30], \n",
    "              [20], \n",
    "              [10]])"
   ]
  },
  {
   "cell_type": "code",
   "execution_count": 28,
   "id": "088fa4f3",
   "metadata": {},
   "outputs": [
    {
     "name": "stdout",
     "output_type": "stream",
     "text": [
      "208 µs ± 5.42 µs per loop (mean ± std. dev. of 7 runs, 1000 loops each)\n"
     ]
    }
   ],
   "source": [
    "%timeit SLAE_LU(A, x)"
   ]
  },
  {
   "cell_type": "code",
   "execution_count": 29,
   "id": "96c9e634",
   "metadata": {},
   "outputs": [
    {
     "name": "stdout",
     "output_type": "stream",
     "text": [
      "212 µs ± 43.6 µs per loop (mean ± std. dev. of 7 runs, 1000 loops each)\n"
     ]
    }
   ],
   "source": [
    "%timeit SLAE_LUP(A, x)"
   ]
  },
  {
   "cell_type": "markdown",
   "id": "6b1f6b4d",
   "metadata": {},
   "source": [
    "## Вывод"
   ]
  },
  {
   "cell_type": "markdown",
   "id": "acbd8f4a",
   "metadata": {},
   "source": [
    "1. LU-разложение не подходит для решения СЛАУ, в которых приведение к ступенчатому виду матрицы коэффициентов предполагает перестановку строк, так как возможно появление 0 на главной диагонали, а значит разложение матрицы коэффициаентов на нижнюю треугольную матрицу L и верхнюю треугольную матрицу U невозможно. Однако LUP-разложение подходит для решения таких СЛАУ.\n",
    "\n",
    "2. Решение СЛАУ с помошью LU-разложения занимет меньше времени, чем решение СЛАУ с помощью LUP-разложения\n",
    "\n",
    "Таким образом, эффективнее использовать LUP-разложение, так как оно более универсально. Но стоит отметить, что решение с помощью LU-разложения вы найдёте быстрее."
   ]
  }
 ],
 "metadata": {
  "kernelspec": {
   "display_name": "Python 3",
   "language": "python",
   "name": "python3"
  },
  "language_info": {
   "codemirror_mode": {
    "name": "ipython",
    "version": 3
   },
   "file_extension": ".py",
   "mimetype": "text/x-python",
   "name": "python",
   "nbconvert_exporter": "python",
   "pygments_lexer": "ipython3",
   "version": "3.8.8"
  }
 },
 "nbformat": 4,
 "nbformat_minor": 5
}
