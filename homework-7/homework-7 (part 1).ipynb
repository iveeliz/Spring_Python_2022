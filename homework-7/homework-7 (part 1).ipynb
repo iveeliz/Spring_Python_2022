{
 "cells": [
  {
   "cell_type": "markdown",
   "id": "d6bd5997",
   "metadata": {},
   "source": [
    "# Домашнее задание №7 (часть 1)\n",
    "\n",
    "## *Иванова Елизавета Дмитриевна, НПМбд-01-19*"
   ]
  },
  {
   "cell_type": "markdown",
   "id": "bb19fd76",
   "metadata": {},
   "source": [
    "## <font color='salmon'>Обработка строк и функция map</font>\n",
    "\n",
    "В этом задании ***нельзя использовать циклы*** – используйте *срезы*, дополнительные *списки*, методы *строк*, функцию **map**. Для каждого упражнения написано, какое наибольшее число строк может быть в программе. Как правило, ограничения в 1-3 строки. \n",
    "  \n",
    "Если программа решается в одну строку, то необходимо использовать функции внутри функций. Например, вот так можно вычислить сумму всех чисел, введенных в строку, используя стандартную функцию **sum**: \n",
    "  \n",
    "**<font color='mediumblue'>print(sum(map(int, input().split())))</font>**  \n",
    "  \n",
    "Обратите внимание, в однострочном решении нельзя сохранять список в переменной - нужно сразу же его обработать и вывести результат. \n",
    "  \n",
    "Решение в **две** строки, как правило, должно иметь следующий вид: \n",
    "  \n",
    "**<font color='mediumblue'>A = input().split() </font>\n",
    "<font color='mediumblue'>print(' '.join(...)) </font>**\n",
    "\n",
    "*При этом зачастую не требуется преобразовывать элементы списка к типу int.* \n",
    "  \n",
    "Решение в **три** строки, как правило, должно иметь следующий вид: \n",
    "  \n",
    "**<font color='mediumblue'>A = input().split()</font>  \n",
    "<font color='mediumblue'>A = ...</font>  \n",
    "<font color='mediumblue'>print(' '.join(...))</font>**  \n",
    "&nbsp;  \n",
    "&nbsp;  "
   ]
  },
  {
   "cell_type": "code",
   "execution_count": 1,
   "id": "3d3b36cc",
   "metadata": {},
   "outputs": [],
   "source": [
    "import numpy as np"
   ]
  },
  {
   "cell_type": "markdown",
   "id": "83a6d353",
   "metadata": {},
   "source": [
    "### <font color='slateblue'>1. Чётные индексы</font>\n",
    "\n",
    "\n",
    "Решите эту задачу в **одну** строку\n",
    "\n",
    "**Ввод:** 1 2 3 4 5  \n",
    "**Вывод:** 1 3 5  "
   ]
  },
  {
   "cell_type": "code",
   "execution_count": 3,
   "id": "7a70b0ab",
   "metadata": {},
   "outputs": [
    {
     "name": "stdout",
     "output_type": "stream",
     "text": [
      "1 2 3 4 5\n",
      "1 3 5\n"
     ]
    }
   ],
   "source": [
    "print(' '.join(input().split()[::2]))"
   ]
  },
  {
   "cell_type": "code",
   "execution_count": 51,
   "id": "35e9cfe8",
   "metadata": {},
   "outputs": [
    {
     "name": "stdout",
     "output_type": "stream",
     "text": [
      "1 3 5\n"
     ]
    }
   ],
   "source": [
    "print(*np.arange(1, 6)[::2])"
   ]
  },
  {
   "cell_type": "code",
   "execution_count": 63,
   "id": "2c97d22b",
   "metadata": {},
   "outputs": [
    {
     "name": "stdout",
     "output_type": "stream",
     "text": [
      "1 2 3 4 5\n",
      "1 3 5\n"
     ]
    }
   ],
   "source": [
    "print(*list(map(int, input().split()))[::2])"
   ]
  },
  {
   "cell_type": "markdown",
   "id": "0d38123f",
   "metadata": {},
   "source": [
    "### <font color='slateblue'>2. Наибольший элемент и его индекс</font>\n",
    "\n",
    "Решите эту задачу в **две** строки\n",
    "\n",
    "**Ввод:** 1 2 3 2 1  \n",
    "**Вывод:** 3 2"
   ]
  },
  {
   "cell_type": "code",
   "execution_count": 4,
   "id": "4d9f39fe",
   "metadata": {},
   "outputs": [
    {
     "name": "stdout",
     "output_type": "stream",
     "text": [
      "1 2 3 2 1\n",
      "3 2\n"
     ]
    }
   ],
   "source": [
    "A = input().split()\n",
    "\n",
    "print(max(A), A.index(max(A)))"
   ]
  },
  {
   "cell_type": "code",
   "execution_count": 65,
   "id": "6abcfb55",
   "metadata": {},
   "outputs": [
    {
     "name": "stdout",
     "output_type": "stream",
     "text": [
      "1 2 3 2 1\n",
      "3 2\n"
     ]
    }
   ],
   "source": [
    "A = list(map(int, input().split()))\n",
    "\n",
    "print(np.max(A), np.argmax(A))"
   ]
  },
  {
   "cell_type": "markdown",
   "id": "1cab8887",
   "metadata": {},
   "source": [
    "### <font color='slateblue'>3. Вывести в обратном порядке</font>\n",
    "\n",
    "Решите эту задачу в **одну** строку\n",
    "\n",
    "**Ввод:** 1 2 3 4 5  \n",
    "**Вывод:** 5 4 3 2 1  "
   ]
  },
  {
   "cell_type": "code",
   "execution_count": 5,
   "id": "85869c95",
   "metadata": {},
   "outputs": [
    {
     "name": "stdout",
     "output_type": "stream",
     "text": [
      "1 2 3 4 5\n",
      "5 4 3 2 1\n"
     ]
    }
   ],
   "source": [
    "print(' '.join(input().split()[::-1]))"
   ]
  },
  {
   "cell_type": "code",
   "execution_count": 69,
   "id": "2faed010",
   "metadata": {},
   "outputs": [
    {
     "name": "stdout",
     "output_type": "stream",
     "text": [
      "5 4 3 2 1\n"
     ]
    }
   ],
   "source": [
    "print(*np.arange(1, 6)[::-1])"
   ]
  },
  {
   "cell_type": "code",
   "execution_count": 70,
   "id": "52f02f5c",
   "metadata": {},
   "outputs": [
    {
     "name": "stdout",
     "output_type": "stream",
     "text": [
      "1 2 3 4 5\n",
      "5 4 3 2 1\n"
     ]
    }
   ],
   "source": [
    "print(*list(map(int, input().split()))[::-1])"
   ]
  },
  {
   "cell_type": "markdown",
   "id": "38691f6d",
   "metadata": {},
   "source": [
    "### <font color='slateblue'>4. Переставить соседние элементы</font>\n",
    "\n",
    "Решите эту задачу в **три** строки\n",
    "\n",
    "**Ввод:** 1 2 3 4 5  \n",
    "**Вывод:** 2 1 4 3 5  "
   ]
  },
  {
   "cell_type": "code",
   "execution_count": 11,
   "id": "333e40e3",
   "metadata": {},
   "outputs": [
    {
     "name": "stdout",
     "output_type": "stream",
     "text": [
      "1 2 3 4 5\n",
      "2 1 4 3 5\n"
     ]
    }
   ],
   "source": [
    "A = input().split()\n",
    "\n",
    "A[:-1:2], A[1::2] = A[1::2], A[:-1:2]\n",
    "\n",
    "print(' '.join(A))"
   ]
  },
  {
   "cell_type": "markdown",
   "id": "3f0a2ec4",
   "metadata": {},
   "source": [
    "### <font color='slateblue'>5. Циклический сдвиг вправо</font>\n",
    "\n",
    "Решите эту задачу в **две** строки\n",
    "\n",
    "**Ввод:** 1 2 3 4 5  \n",
    "**Вывод:** 5 1 2 3 4  "
   ]
  },
  {
   "cell_type": "code",
   "execution_count": 15,
   "id": "f92a9c68",
   "metadata": {},
   "outputs": [
    {
     "name": "stdout",
     "output_type": "stream",
     "text": [
      "1 2 3 4 5\n",
      "5 1 2 3 4\n"
     ]
    }
   ],
   "source": [
    "A = input().split()\n",
    "\n",
    "print(' '.join(A[-1:] + A[:-1]))"
   ]
  },
  {
   "cell_type": "code",
   "execution_count": 72,
   "id": "7cc1f54a",
   "metadata": {},
   "outputs": [
    {
     "name": "stdout",
     "output_type": "stream",
     "text": [
      "1 2 3 4 5\n",
      "5 1 2 3 4\n"
     ]
    }
   ],
   "source": [
    "A = list(map(int, input().split()))\n",
    "\n",
    "print(*np.roll(A, 1))"
   ]
  },
  {
   "cell_type": "markdown",
   "id": "5001ad30",
   "metadata": {},
   "source": [
    "### <font color='slateblue'>**6. Удалить элемент**</font>\n",
    "\n",
    "Решите эту задачу в **три** строки\n",
    "\n",
    "**Ввод:** 7 6 5 4 3 2 1  \n",
    "&emsp;&emsp;&nbsp;&nbsp;&nbsp; 2  \n",
    "**Вывод:** 7 6 4 3 2 1  "
   ]
  },
  {
   "cell_type": "code",
   "execution_count": 25,
   "id": "51cd8eb2",
   "metadata": {},
   "outputs": [
    {
     "name": "stdout",
     "output_type": "stream",
     "text": [
      "7 6 5 4 3 2 1\n",
      "2\n",
      "7 6 4 3 2 1\n"
     ]
    }
   ],
   "source": [
    "A = input().split()\n",
    "n = int(input())\n",
    "\n",
    "print(' '.join(A[:n] + A[n + 1:]))"
   ]
  },
  {
   "cell_type": "code",
   "execution_count": 74,
   "id": "283e3a38",
   "metadata": {},
   "outputs": [
    {
     "name": "stdout",
     "output_type": "stream",
     "text": [
      "7 6 5 4 3 2 1\n",
      "2\n",
      "7 6 4 3 2 1\n"
     ]
    }
   ],
   "source": [
    "A = list(map(int, input().split()))\n",
    "n = int(input())\n",
    "\n",
    "print(*np.delete(A, n))"
   ]
  },
  {
   "cell_type": "markdown",
   "id": "47d83760",
   "metadata": {},
   "source": [
    "### <font color='slateblue'>7. Вставить элемент</font>\n",
    "\n",
    "Решите эту задачу в **три** строки\n",
    "\n",
    "**Ввод:** 7 6 5 4 3 2 1  \n",
    "&emsp;&emsp;&nbsp;&nbsp;&nbsp; 2 0  \n",
    "**Вывод:** 7 6 0 5 4 3 2 1  "
   ]
  },
  {
   "cell_type": "code",
   "execution_count": 41,
   "id": "2b56696d",
   "metadata": {},
   "outputs": [
    {
     "name": "stdout",
     "output_type": "stream",
     "text": [
      "7 6 5 4 3 2 1\n",
      "2 0\n",
      "7 6 0 5 4 3 2 1\n"
     ]
    }
   ],
   "source": [
    "A = input().split()\n",
    "n, elem = map(int, input().split()) \n",
    "\n",
    "print(' '.join(A[:n]), elem, ' '.join(A[n:]))"
   ]
  },
  {
   "cell_type": "code",
   "execution_count": 76,
   "id": "5cd5fef9",
   "metadata": {},
   "outputs": [
    {
     "name": "stdout",
     "output_type": "stream",
     "text": [
      "7 6 5 4 3 2 1\n",
      "2 0\n",
      "7 6 0 5 4 3 2 1\n"
     ]
    }
   ],
   "source": [
    "A = list(map(int, input().split()))\n",
    "n, elem = map(int, input().split()) \n",
    "\n",
    "print(*np.insert(A, n, elem))"
   ]
  },
  {
   "cell_type": "markdown",
   "id": "539b9cd1",
   "metadata": {},
   "source": [
    "### <font color='slateblue'>8. Большой сдвиг</font>\n",
    "\n",
    "Решите эту задачу в **две** строки\n",
    "\n",
    "**Ввод:** 5 3 7 4 6  \n",
    "&emsp;&emsp;&nbsp;&nbsp;&nbsp; 3  \n",
    "**Вывод:** 7 4 6 5 3  "
   ]
  },
  {
   "cell_type": "code",
   "execution_count": 48,
   "id": "3522e368",
   "metadata": {},
   "outputs": [
    {
     "name": "stdout",
     "output_type": "stream",
     "text": [
      "5 3 7 4 6\n",
      "3\n",
      "7 4 6 5 3\n"
     ]
    }
   ],
   "source": [
    "A, n = input().split(), int(input())\n",
    "\n",
    "print(' '.join(A[n - 1:] + A[:n - 1]))"
   ]
  },
  {
   "cell_type": "code",
   "execution_count": 78,
   "id": "b53f9555",
   "metadata": {},
   "outputs": [
    {
     "name": "stdout",
     "output_type": "stream",
     "text": [
      "5 3 7 4 6\n",
      "3\n",
      "7 4 6 5 3\n"
     ]
    }
   ],
   "source": [
    "A, n = list(map(int, input().split())), int(input())\n",
    "\n",
    "print(*np.roll(A, n))"
   ]
  }
 ],
 "metadata": {
  "kernelspec": {
   "display_name": "Python 3",
   "language": "python",
   "name": "python3"
  },
  "language_info": {
   "codemirror_mode": {
    "name": "ipython",
    "version": 3
   },
   "file_extension": ".py",
   "mimetype": "text/x-python",
   "name": "python",
   "nbconvert_exporter": "python",
   "pygments_lexer": "ipython3",
   "version": "3.8.8"
  }
 },
 "nbformat": 4,
 "nbformat_minor": 5
}
