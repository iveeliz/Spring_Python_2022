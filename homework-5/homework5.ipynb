{
 "cells": [
  {
   "cell_type": "code",
   "execution_count": 1,
   "id": "dd377051",
   "metadata": {},
   "outputs": [],
   "source": [
    "import numpy as np"
   ]
  },
  {
   "cell_type": "code",
   "execution_count": 2,
   "id": "8a5dceeb",
   "metadata": {},
   "outputs": [],
   "source": [
    "def LU_decomposition(A):\n",
    "\n",
    "    n = A.shape[0]\n",
    "    \n",
    "    L = np.identity(n)\n",
    "    U = A.copy()\n",
    "    \n",
    "    for i in range(n):\n",
    "            \n",
    "        multiplier = U[i + 1 :, i] / U[i, i]\n",
    "        L[i + 1 :, i] += multiplier\n",
    "        multiplier.resize(multiplier.size, 1)\n",
    "        U[i + 1 :] -= multiplier * U[i]\n",
    "        \n",
    "    return L, U"
   ]
  },
  {
   "cell_type": "code",
   "execution_count": 3,
   "id": "d6198cd2",
   "metadata": {},
   "outputs": [],
   "source": [
    "A = np.array([[10, 20, 30.], \n",
    "              [0, -50, 60.], \n",
    "              [70, 80, 90.]])"
   ]
  },
  {
   "cell_type": "code",
   "execution_count": 4,
   "id": "ec20c294",
   "metadata": {},
   "outputs": [
    {
     "data": {
      "text/plain": [
       "(array([[1. , 0. , 0. ],\n",
       "        [0. , 1. , 0. ],\n",
       "        [7. , 1.2, 1. ]]),\n",
       " array([[  10.,   20.,   30.],\n",
       "        [   0.,  -50.,   60.],\n",
       "        [   0.,    0., -192.]]))"
      ]
     },
     "execution_count": 4,
     "metadata": {},
     "output_type": "execute_result"
    }
   ],
   "source": [
    "LU_decomposition(A)"
   ]
  },
  {
   "cell_type": "code",
   "execution_count": 5,
   "id": "d611a915",
   "metadata": {},
   "outputs": [],
   "source": [
    "L, U = LU_decomposition(A)"
   ]
  },
  {
   "cell_type": "code",
   "execution_count": 6,
   "id": "71d1b880",
   "metadata": {},
   "outputs": [
    {
     "data": {
      "text/plain": [
       "array([[ True,  True,  True],\n",
       "       [ True,  True,  True],\n",
       "       [ True,  True,  True]])"
      ]
     },
     "execution_count": 6,
     "metadata": {},
     "output_type": "execute_result"
    }
   ],
   "source": [
    "A == L.dot(U)"
   ]
  },
  {
   "cell_type": "code",
   "execution_count": 7,
   "id": "53a15f71",
   "metadata": {},
   "outputs": [],
   "source": [
    "def SLAE_LU(A, x):\n",
    "    \n",
    "    L, U = LU_decomposition(A)\n",
    "    \n",
    "    L_inverse = np.linalg.inv(L)\n",
    "    U_inverse = np.linalg.inv(U)\n",
    "    \n",
    "    a = np.array(L_inverse.dot(x))\n",
    "    b = np.array(U_inverse.dot(a))\n",
    "    \n",
    "    return np.round(b, 2)"
   ]
  },
  {
   "cell_type": "code",
   "execution_count": 8,
   "id": "ca7c56c4",
   "metadata": {},
   "outputs": [],
   "source": [
    "x = np.array([[30], \n",
    "              [20], \n",
    "              [10]])"
   ]
  },
  {
   "cell_type": "code",
   "execution_count": 9,
   "id": "5f2f5277",
   "metadata": {},
   "outputs": [
    {
     "data": {
      "text/plain": [
       "array([[-2.5 ],\n",
       "       [ 1.  ],\n",
       "       [ 1.17]])"
      ]
     },
     "execution_count": 9,
     "metadata": {},
     "output_type": "execute_result"
    }
   ],
   "source": [
    "SLAE_LU(A, x)"
   ]
  },
  {
   "cell_type": "code",
   "execution_count": 10,
   "id": "7b4b163b",
   "metadata": {},
   "outputs": [
    {
     "data": {
      "text/plain": [
       "array([[-2.5 ],\n",
       "       [ 1.  ],\n",
       "       [ 1.17]])"
      ]
     },
     "execution_count": 10,
     "metadata": {},
     "output_type": "execute_result"
    }
   ],
   "source": [
    "np.round(np.linalg.solve(A, x), 2)"
   ]
  },
  {
   "cell_type": "code",
   "execution_count": 11,
   "id": "71693702",
   "metadata": {},
   "outputs": [
    {
     "data": {
      "text/plain": [
       "array([[-2.5 ],\n",
       "       [ 1.  ],\n",
       "       [ 1.17]])"
      ]
     },
     "execution_count": 11,
     "metadata": {},
     "output_type": "execute_result"
    }
   ],
   "source": [
    "from scipy.linalg import lu_factor, lu_solve\n",
    "\n",
    "np.round(lu_solve(lu_factor(A), x), 2)"
   ]
  },
  {
   "cell_type": "code",
   "execution_count": 12,
   "id": "5885efb9",
   "metadata": {},
   "outputs": [],
   "source": [
    "def swap_rows(A, a, b):\n",
    "    \n",
    "    t = np.copy(A[a])\n",
    "    A[a] = A[b]\n",
    "    A[b] = t"
   ]
  },
  {
   "cell_type": "code",
   "execution_count": 13,
   "id": "3b5f398a",
   "metadata": {},
   "outputs": [],
   "source": [
    "def swap_cols(A, a, b):\n",
    "    A = np.transpose(A)\n",
    "    A = swap_rows(A, a, b)\n",
    "    return np.transpose(A)"
   ]
  },
  {
   "cell_type": "code",
   "execution_count": 14,
   "id": "ac24a279",
   "metadata": {},
   "outputs": [],
   "source": [
    "def LUP_decomposition(A):\n",
    "    \n",
    "    n = A.shape[0]\n",
    "    \n",
    "    L = np.identity(n)\n",
    "    U = np.copy(A)\n",
    "    P = np.identity(n)\n",
    "    \n",
    "    for a in range(n):\n",
    "        \n",
    "        b = a + 1\n",
    "        \n",
    "        while U[a][a] == 0:\n",
    "            \n",
    "            swap_rows(U, a, b)\n",
    "            swap_rows(P, a, b)\n",
    "            swap_rows(L, a, b)\n",
    "            swap_cols(L, a, b)\n",
    "            \n",
    "            b += 1\n",
    "        \n",
    "        multiplier = U[a + 1 :, a] / U[a, a]\n",
    "        L[a + 1 :, a] += multiplier\n",
    "        multiplier.resize(multiplier.size, 1)\n",
    "        U[a + 1 :] -= multiplier * U[a]\n",
    "        \n",
    "    return L, U, P"
   ]
  },
  {
   "cell_type": "code",
   "execution_count": 15,
   "id": "91a5dff6",
   "metadata": {},
   "outputs": [
    {
     "data": {
      "text/plain": [
       "(array([[1. , 0. , 0. ],\n",
       "        [0. , 1. , 0. ],\n",
       "        [7. , 1.2, 1. ]]),\n",
       " array([[  10.,   20.,   30.],\n",
       "        [   0.,  -50.,   60.],\n",
       "        [   0.,    0., -192.]]),\n",
       " array([[1., 0., 0.],\n",
       "        [0., 1., 0.],\n",
       "        [0., 0., 1.]]))"
      ]
     },
     "execution_count": 15,
     "metadata": {},
     "output_type": "execute_result"
    }
   ],
   "source": [
    "LUP_decomposition(A)"
   ]
  },
  {
   "cell_type": "code",
   "execution_count": 16,
   "id": "2d385dbf",
   "metadata": {},
   "outputs": [],
   "source": [
    "L, U, P = LUP_decomposition(A)"
   ]
  },
  {
   "cell_type": "code",
   "execution_count": 17,
   "id": "17a19a85",
   "metadata": {},
   "outputs": [
    {
     "data": {
      "text/plain": [
       "array([[ True,  True,  True],\n",
       "       [ True,  True,  True],\n",
       "       [ True,  True,  True]])"
      ]
     },
     "execution_count": 17,
     "metadata": {},
     "output_type": "execute_result"
    }
   ],
   "source": [
    "A == P.dot(L.dot(U))"
   ]
  },
  {
   "cell_type": "code",
   "execution_count": 18,
   "id": "57d71f96",
   "metadata": {},
   "outputs": [
    {
     "data": {
      "text/plain": [
       "array([[ True,  True,  True],\n",
       "       [ True,  True,  True],\n",
       "       [ True,  True,  True]])"
      ]
     },
     "execution_count": 18,
     "metadata": {},
     "output_type": "execute_result"
    }
   ],
   "source": [
    "P.dot(A) == L.dot(U)"
   ]
  },
  {
   "cell_type": "code",
   "execution_count": 19,
   "id": "af20e1fc",
   "metadata": {},
   "outputs": [],
   "source": [
    "def SLAE_LUP(A, x):\n",
    "    \n",
    "    L, U, P = LUP_decomposition(A)\n",
    "    x = P.dot(x)\n",
    "    \n",
    "    L_inverse = np.linalg.inv(L)\n",
    "    U_inverse = np.linalg.inv(U)\n",
    "    \n",
    "    a = np.array(L_inverse.dot(x))\n",
    "    b = np.array(U_inverse.dot(a))\n",
    "    \n",
    "    return np.round(b, 2)"
   ]
  },
  {
   "cell_type": "code",
   "execution_count": 20,
   "id": "a1f6eef1",
   "metadata": {},
   "outputs": [
    {
     "data": {
      "text/plain": [
       "array([[-2.5 ],\n",
       "       [ 1.  ],\n",
       "       [ 1.17]])"
      ]
     },
     "execution_count": 20,
     "metadata": {},
     "output_type": "execute_result"
    }
   ],
   "source": [
    "SLAE_LUP(A, x)"
   ]
  },
  {
   "cell_type": "code",
   "execution_count": 21,
   "id": "7bd45f6b",
   "metadata": {},
   "outputs": [
    {
     "data": {
      "text/plain": [
       "array([[-2.5 ],\n",
       "       [ 1.  ],\n",
       "       [ 1.17]])"
      ]
     },
     "execution_count": 21,
     "metadata": {},
     "output_type": "execute_result"
    }
   ],
   "source": [
    "np.round(np.linalg.solve(A, x), 2)"
   ]
  },
  {
   "cell_type": "code",
   "execution_count": 22,
   "id": "f420707f",
   "metadata": {},
   "outputs": [
    {
     "data": {
      "text/plain": [
       "array([[-2.5 ],\n",
       "       [ 1.  ],\n",
       "       [ 1.17]])"
      ]
     },
     "execution_count": 22,
     "metadata": {},
     "output_type": "execute_result"
    }
   ],
   "source": [
    "np.round(lu_solve(lu_factor(A), x), 2)"
   ]
  },
  {
   "cell_type": "code",
   "execution_count": 23,
   "id": "05045f61",
   "metadata": {},
   "outputs": [],
   "source": [
    "swap_rows(A, 0, 1)"
   ]
  },
  {
   "cell_type": "code",
   "execution_count": 24,
   "id": "07b845ca",
   "metadata": {},
   "outputs": [
    {
     "name": "stderr",
     "output_type": "stream",
     "text": [
      "<ipython-input-2-06b542031aa0>:10: RuntimeWarning: divide by zero encountered in true_divide\n",
      "  multiplier = U[i + 1 :, i] / U[i, i]\n",
      "<ipython-input-2-06b542031aa0>:13: RuntimeWarning: invalid value encountered in multiply\n",
      "  U[i + 1 :] -= multiplier * U[i]\n",
      "<ipython-input-2-06b542031aa0>:10: RuntimeWarning: invalid value encountered in true_divide\n",
      "  multiplier = U[i + 1 :, i] / U[i, i]\n"
     ]
    },
    {
     "data": {
      "text/plain": [
       "(array([[ 1.,  0.,  0.],\n",
       "        [inf,  1.,  0.],\n",
       "        [inf, nan,  1.]]),\n",
       " array([[  0., -50.,  60.],\n",
       "        [ nan,  inf, -inf],\n",
       "        [ nan,  nan,  nan]]))"
      ]
     },
     "execution_count": 24,
     "metadata": {},
     "output_type": "execute_result"
    }
   ],
   "source": [
    "LU_decomposition(A)"
   ]
  },
  {
   "cell_type": "code",
   "execution_count": 25,
   "id": "b8defb99",
   "metadata": {},
   "outputs": [
    {
     "data": {
      "text/plain": [
       "(array([[1. , 0. , 0. ],\n",
       "        [0. , 1. , 0. ],\n",
       "        [7. , 1.2, 1. ]]),\n",
       " array([[  10.,   20.,   30.],\n",
       "        [   0.,  -50.,   60.],\n",
       "        [   0.,    0., -192.]]),\n",
       " array([[0., 1., 0.],\n",
       "        [1., 0., 0.],\n",
       "        [0., 0., 1.]]))"
      ]
     },
     "execution_count": 25,
     "metadata": {},
     "output_type": "execute_result"
    }
   ],
   "source": [
    "LUP_decomposition(A)"
   ]
  },
  {
   "cell_type": "code",
   "execution_count": 26,
   "id": "1354dd1d",
   "metadata": {},
   "outputs": [],
   "source": [
    "A = np.array([[10, 20, 30.], \n",
    "              [0, -50, 60.], \n",
    "              [70, 80, 90.]])\n",
    "x = np.array([[30], \n",
    "              [20], \n",
    "              [10]])"
   ]
  },
  {
   "cell_type": "code",
   "execution_count": 27,
   "id": "394ce5ce",
   "metadata": {},
   "outputs": [
    {
     "name": "stdout",
     "output_type": "stream",
     "text": [
      "108 µs ± 4.37 µs per loop (mean ± std. dev. of 7 runs, 10000 loops each)\n"
     ]
    }
   ],
   "source": [
    "%timeit SLAE_LU(A, x)"
   ]
  },
  {
   "cell_type": "code",
   "execution_count": 28,
   "id": "693d6702",
   "metadata": {},
   "outputs": [
    {
     "name": "stdout",
     "output_type": "stream",
     "text": [
      "136 µs ± 10.5 µs per loop (mean ± std. dev. of 7 runs, 10000 loops each)\n"
     ]
    }
   ],
   "source": [
    "%timeit SLAE_LUP(A, x)"
   ]
  }
 ],
 "metadata": {
  "kernelspec": {
   "display_name": "Python 3",
   "language": "python",
   "name": "python3"
  },
  "language_info": {
   "codemirror_mode": {
    "name": "ipython",
    "version": 3
   },
   "file_extension": ".py",
   "mimetype": "text/x-python",
   "name": "python",
   "nbconvert_exporter": "python",
   "pygments_lexer": "ipython3",
   "version": "3.8.8"
  }
 },
 "nbformat": 4,
 "nbformat_minor": 5
}
